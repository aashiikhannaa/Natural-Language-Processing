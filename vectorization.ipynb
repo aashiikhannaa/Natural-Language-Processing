{
  "nbformat": 4,
  "nbformat_minor": 0,
  "metadata": {
    "colab": {
      "provenance": []
    },
    "kernelspec": {
      "name": "python3",
      "display_name": "Python 3"
    },
    "language_info": {
      "name": "python"
    }
  },
  "cells": [
    {
      "cell_type": "markdown",
      "source": [
        "Prac 7 - Word Embeddings\n",
        "\n",
        "Name: Aashi Khanna\n",
        "\n",
        "Roll No: 02\n"
      ],
      "metadata": {
        "id": "J8ZhwYK51kBT"
      }
    },
    {
      "cell_type": "markdown",
      "source": [
        "\n",
        "1) bag of words - number of times a word appears in a document, does not take context into account, a lot of sparseness\n",
        "\n",
        "2) document term matrix -\n",
        "document contains sentences, sentences has words\n",
        "\n",
        "Vocabulary count - number of unique words in the document (t1, t2, t3 ...., tn)\n",
        "\n",
        "Doc term matrix = whether in doc1 t1 appears or not (1 or 0), if a token occurs more than once, its frequency is stored\n",
        "\n",
        "disadvantages -\n",
        "\n",
        "1) sparseness\n",
        "\n",
        "2) a, an , the may have frequency but dont contribute much to the meaning, and hence higher frequency is not a justified metric. Thus stopword removal is essential.\n",
        "\n",
        "3) normalization is necessary (TF-IDF)"
      ],
      "metadata": {
        "id": "3WbrIP8I4D7i"
      }
    },
    {
      "cell_type": "markdown",
      "source": [
        "TF-IDF Vectorization\n",
        "\n",
        "weight(ij) = TF(ij) x log(M / df(j) )\n",
        "where,\n",
        "\n",
        "\n",
        "1. weight(ij) = tfidf score\n",
        "2. M = total number of documents in the corpus\n",
        "3. df(j) = number of docs in which Tj term appears [Inverse Doc Frequency ]\n",
        "4. TF(ij) = num of times term Tj occurs in doc Di [ Term Frequency ]\n",
        "\n",
        "\n",
        "\n",
        "\n"
      ],
      "metadata": {
        "id": "itQ3VvAf5zLQ"
      }
    },
    {
      "cell_type": "code",
      "execution_count": null,
      "metadata": {
        "id": "8ke66KF50wwy"
      },
      "outputs": [],
      "source": [
        "import sklearn"
      ]
    },
    {
      "cell_type": "code",
      "source": [
        "from sklearn.feature_extraction.text import TfidfVectorizer, CountVectorizer\n",
        "#TfIdf Vectorizer is a class"
      ],
      "metadata": {
        "id": "VlpU25UO2Mu6"
      },
      "execution_count": null,
      "outputs": []
    },
    {
      "cell_type": "code",
      "source": [
        "tfidf = TfidfVectorizer(stop_words='english',smooth_idf=True)\n",
        "#create an object vectorizer from class Tfidf Vectorizer"
      ],
      "metadata": {
        "id": "a7MyAsUQ2XP6"
      },
      "execution_count": null,
      "outputs": []
    },
    {
      "cell_type": "code",
      "source": [
        "text = ['Good morning! It is a bright sunny day with endless possibilites. Go explore.',\n",
        "        'Good evening Aashi']\n"
      ],
      "metadata": {
        "id": "SkZymAzU68Jy"
      },
      "execution_count": null,
      "outputs": []
    },
    {
      "cell_type": "code",
      "source": [
        "result = tfidf.fit_transform(text)\n",
        "\n",
        "# print('\\nIDF values:')\n",
        "# for ele1, ele2 in zip(tfidf.get_feature_names(), tfidf.idf_):\n",
        "#     print(ele1, ':', ele2)\n",
        "print('\\nWord indexes:')\n",
        "print(tfidf.vocabulary_)\n",
        "print(len(tfidf.vocabulary_))"
      ],
      "metadata": {
        "colab": {
          "base_uri": "https://localhost:8080/"
        },
        "id": "7nSCh2bM7KUq",
        "outputId": "0aa55285-a214-4248-dfac-ec8c20474e3a"
      },
      "execution_count": null,
      "outputs": [
        {
          "output_type": "stream",
          "name": "stdout",
          "text": [
            "\n",
            "Word indexes:\n",
            "{'good': 6, 'morning': 7, 'bright': 1, 'sunny': 9, 'day': 2, 'endless': 3, 'possibilites': 8, 'explore': 5, 'evening': 4, 'aashi': 0}\n",
            "10\n"
          ]
        }
      ]
    },
    {
      "cell_type": "code",
      "source": [
        "input_matrix = tfidf.fit_transform(text)\n",
        "print(input_matrix)"
      ],
      "metadata": {
        "colab": {
          "base_uri": "https://localhost:8080/"
        },
        "id": "RUeVHKgc7M8p",
        "outputId": "bbcf9f05-bf1a-4d5a-dc65-7933795067ce"
      },
      "execution_count": null,
      "outputs": [
        {
          "output_type": "stream",
          "name": "stdout",
          "text": [
            "  (0, 5)\t0.3649964681447582\n",
            "  (0, 8)\t0.3649964681447582\n",
            "  (0, 3)\t0.3649964681447582\n",
            "  (0, 2)\t0.3649964681447582\n",
            "  (0, 9)\t0.3649964681447582\n",
            "  (0, 1)\t0.3649964681447582\n",
            "  (0, 7)\t0.3649964681447582\n",
            "  (0, 6)\t0.25969799324016246\n",
            "  (1, 0)\t0.6316672017376245\n",
            "  (1, 4)\t0.6316672017376245\n",
            "  (1, 6)\t0.4494364165239821\n"
          ]
        }
      ]
    },
    {
      "cell_type": "code",
      "source": [
        "print(input_matrix.shape)"
      ],
      "metadata": {
        "colab": {
          "base_uri": "https://localhost:8080/"
        },
        "id": "CqBVVFVa8K2t",
        "outputId": "3078b475-a8fb-4e40-9b00-c99f9e5888ef"
      },
      "execution_count": null,
      "outputs": [
        {
          "output_type": "stream",
          "name": "stdout",
          "text": [
            "(2, 10)\n"
          ]
        }
      ]
    },
    {
      "cell_type": "markdown",
      "source": [
        "For Chapters in Brown Corpus"
      ],
      "metadata": {
        "id": "0u_w9tK9ROYC"
      }
    },
    {
      "cell_type": "code",
      "source": [
        "import nltk\n",
        "from nltk.corpus import brown\n",
        "from sklearn.feature_extraction.text import TfidfVectorizer\n"
      ],
      "metadata": {
        "id": "_b3_5MH88MTJ"
      },
      "execution_count": null,
      "outputs": []
    },
    {
      "cell_type": "code",
      "source": [
        "nltk.download('brown')"
      ],
      "metadata": {
        "colab": {
          "base_uri": "https://localhost:8080/"
        },
        "id": "ohZDXWDIRtjT",
        "outputId": "41a223ad-d556-409c-cb4f-8721ac25a3e2"
      },
      "execution_count": null,
      "outputs": [
        {
          "output_type": "stream",
          "name": "stderr",
          "text": [
            "[nltk_data] Downloading package brown to /root/nltk_data...\n",
            "[nltk_data]   Unzipping corpora/brown.zip.\n"
          ]
        },
        {
          "output_type": "execute_result",
          "data": {
            "text/plain": [
              "True"
            ]
          },
          "metadata": {},
          "execution_count": 9
        }
      ]
    },
    {
      "cell_type": "code",
      "source": [
        "\n",
        "# Create a list of chapter IDs to use as document names\n",
        "chapter_ids = brown.fileids(categories='news')\n",
        "\n",
        "# Create a list of chapter texts\n",
        "chapter_texts = [brown.raw(fileids=[f]) for f in chapter_ids]\n",
        "chapter_texts = chapter_texts[:5]\n",
        "print(len(chapter_texts))\n"
      ],
      "metadata": {
        "colab": {
          "base_uri": "https://localhost:8080/"
        },
        "id": "TX67eViYRU-a",
        "outputId": "3539fbd0-1f75-4f74-dafe-2f449a91a1fc"
      },
      "execution_count": null,
      "outputs": [
        {
          "output_type": "stream",
          "name": "stdout",
          "text": [
            "5\n"
          ]
        }
      ]
    },
    {
      "cell_type": "code",
      "source": [
        "# Initialize a TfidfVectorizer object\n",
        "vectorizer = TfidfVectorizer(stop_words='english')\n",
        "\n",
        "# Generate the TF-IDF weighted document term matrix\n",
        "dtm_tfidf = vectorizer.fit_transform(chapter_texts)\n",
        "print(vectorizer.vocabulary_)\n",
        "print(len(vectorizer.vocabulary_))"
      ],
      "metadata": {
        "colab": {
          "base_uri": "https://localhost:8080/"
        },
        "id": "nD9AOPynRmoF",
        "outputId": "d82d0179-e9f5-4ccc-824a-f50d223d26d1"
      },
      "execution_count": null,
      "outputs": [
        {
          "output_type": "stream",
          "name": "stdout",
          "text": [
            "{'fulton': 961, 'np': 1471, 'tl': 2215, 'county': 566, 'nn': 1454, 'grand': 1009, 'jj': 1200, 'jury': 1218, 'said': 1932, 'vbd': 2294, 'friday': 956, 'nr': 1473, 'investigation': 1185, 'atlanta': 245, 'recent': 1788, 'primary': 1682, 'election': 764, 'produced': 1703, 'evidence': 831, 'cs': 588, 'dti': 737, 'irregularities': 1188, 'nns': 1455, 'took': 2222, 'place': 1601, 'rbr': 1770, 'term': 2187, 'end': 788, 'presentments': 1667, 'city': 428, 'executive': 840, 'committee': 466, 'wdt': 2344, 'hvd': 1111, 'charge': 409, 'deserves': 649, 'vbz': 2297, 'praise': 1652, 'cc': 391, 'thanks': 2197, 'manner': 1330, 'bedz': 296, 'conducted': 494, 'vbn': 2296, 'september': 1987, 'october': 1486, 'ben': 305, 'charged': 410, 'superior': 2144, 'court': 569, 'judge': 1212, 'durwood': 741, 'pye': 1739, 'investigate': 1184, 'vb': 2293, 'reports': 1847, 'possible': 1640, 'hard': 1046, 'fought': 945, 'won': 2372, 'mayor': 1349, 'nominate': 1457, 'ivan': 1195, 'allen': 160, 'jr': 1211, 'rb': 1769, 'relative': 1824, 'handful': 1041, 'received': 1785, 'considering': 511, 'widespread': 2361, 'number': 1476, 'voters': 2324, 'size': 2032, 'dt': 736, 'pps': 1649, 'did': 667, 'dod': 713, 'ap': 191, 'georgia': 986, 'registration': 1814, 'laws': 1256, 'ber': 309, 'outmoded': 1534, 'inadequate': 1134, 'ambiguous': 174, 'recommended': 1795, 'legislators': 1273, 'act': 103, 'hv': 1110, 'dts': 738, 'studied': 2120, 'revised': 1894, 'modernizing': 1396, 'vbg': 2295, 'improving': 1133, 'ppo': 1648, 'commented': 462, 'topics': 2224, 'purchasing': 1736, 'departments': 640, 'ql': 1740, 'operated': 1506, 'follow': 928, 'generally': 981, 'accepted': 95, 'practices': 1651, 'inure': 1182, 'best': 312, 'jjt': 1203, 'abx': 92, 'governments': 1004, 'merger': 1371, 'hl': 1083, 'proposed': 1720, 'wrb': 2385, 'believes': 301, 'cd': 392, 'offices': 1495, 'md': 1351, 'combined': 458, 'achieve': 100, 'greater': 1014, 'jjr': 1201, 'efficiency': 757, 'reduce': 1801, 'cost': 554, 'administration': 120, 'department': 639, 'bez': 317, 'lacking': 1242, 'experienced': 849, 'clerical': 438, 'personnel': 1584, 'result': 1880, 'policies': 1621, 'urged': 2278, 'steps': 2105, 'remedy': 1834, 'problem': 1693, 'implementation': 1127, 'automobile': 269, 'title': 2214, 'law': 1254, 'outgoing': 1529, 'legislature': 1274, 'provide': 1728, 'enabling': 781, 'funds': 965, 'set': 1997, 'effective': 755, 'date': 600, 'orderly': 1519, 'effected': 754, 'swipe': 2156, 'state': 2092, 'welfare': 2351, 'handling': 1044, 'federal': 895, 'granted': 1011, 'child': 418, 'services': 1993, 'foster': 944, 'homes': 1089, 'major': 1321, 'items': 1194, 'general': 980, 'assistance': 237, 'program': 1709, 'hvz': 1114, 'seen': 1971, 'fit': 923, 'distribute': 703, 'abn': 85, 'counties': 563, 'exception': 836, 'receives': 1786, 'pn': 1613, 'money': 1401, 'jurors': 1217, 'ppss': 1650, 'realize': 1780, 'proportionate': 1716, 'distribution': 704, 'disable': 681, 'pp': 1645, 'populous': 1632, 'feel': 898, 'future': 966, 'receive': 1784, 'portion': 1634, 'available': 270, 'failure': 877, 'continue': 529, 'disproportionate': 698, 'burden': 353, 'taxpayers': 2170, 'ordinary': 1521, 'appointment': 203, 'appraisers': 205, 'guardians': 1027, 'administrators': 122, 'awarding': 273, 'fees': 900, 'compensation': 474, 'wards': 2334, 'protected': 1725, 'incorporated': 1139, 'operating': 1507, 'procedures': 1696, 'recommendations': 1794, 'previous': 1676, 'juries': 1216, 'bar': 284, 'association': 241, 'interim': 1174, 'citizens': 427, 'actions': 106, 'serve': 1990, 'protect': 1724, 'fact': 872, 'effect': 753, 'undue': 2266, 'costs': 556, 'appointed': 200, 'elected': 763, 'servants': 1989, 'unmeritorious': 2274, 'criticisms': 582, 'regarding': 1810, 'new': 1448, 'multi': 1415, 'million': 1382, 'dollar': 716, 'airport': 155, 'management': 1328, 'takes': 2162, 'jan': 1199, 'wps': 2384, 'eliminate': 770, 'political': 1623, 'influences': 1152, 'elaborate': 762, 'added': 114, 'ex': 832, 'periodic': 1576, 'surveillance': 2152, 'pricing': 1680, 'concessionaires': 489, 'purpose': 1737, 'keeping': 1225, 'prices': 1679, 'reasonable': 1783, 'ask': 226, 'jail': 1197, 'deputies': 645, 'matters': 1346, 'additional': 116, 'employed': 777, 'doctor': 711, 'medical': 1358, 'intern': 1176, 'extern': 863, 'night': 1451, 'weekend': 2349, 'duty': 742, 'work': 2375, 'officials': 1497, 'pass': 1554, 'legislation': 1270, 'permit': 1577, 'establishment': 823, 'fair': 878, 'equitable': 812, 'pension': 1571, 'plan': 1606, 'employes': 779, 'praised': 1653, 'operation': 1508, 'police': 1618, 'tax': 2167, 'commissioner': 465, 'office': 1493, 'bellwood': 303, 'alpharetta': 170, 'prison': 1688, 'farms': 884, 'grady': 1008, 'hospital': 1096, 'health': 1061, 'william': 2363, 'hartsfield': 1052, 'filed': 910, 'suit': 2136, 'divorce': 709, 'wife': 2362, 'pearl': 1567, 'williams': 2364, 'petition': 1589, 'mental': 1366, 'cruelty': 586, 'couple': 567, 'married': 1334, 'aug': 261, '1913': 20, 'son': 2049, 'berry': 311, 'daughter': 602, 'mrs': 1414, 'cheshire': 415, 'griffin': 1016, 'attorneys': 258, 'amicable': 181, 'property': 1715, 'settlement': 2001, 'agreed': 148, 'listed': 1296, 'occupation': 1485, 'attorney': 257, 'age': 143, '71': 71, '74': 72, 'birth': 322, 'opelika': 1503, 'ala': 157, 'lived': 1300, 'man': 1327, 'year': 2389, 'home': 1088, '637': 66, 'pelham': 1568, 'rd': 1772, 'aj': 156, 'henry': 1072, 'bowden': 340, 'brief': 346, 'interlude': 1175, '1937': 22, 'career': 379, 'goes': 995, 'council': 559, '1923': 21, 'present': 1665, 'expires': 852, 'succeeded': 2132, 'candidate': 369, 'sept': 1986, '13': 7, 'announced': 186, 'run': 1925, 'reelection': 1804, 'republicans': 1853, 'nps': 1472, 'getting': 988, 'strong': 2116, 'encouragement': 786, 'enter': 803, '1962': 29, 'governor': 1005, 'race': 1751, 'jjs': 1202, 'official': 1496, 'wednesday': 2347, 'robert': 1912, 'snodgrass': 2038, 'gop': 999, 'chairman': 401, 'meeting': 1361, 'held': 1069, 'tuesday': 2249, 'blue': 327, 'ridge': 1902, 'brought': 348, 'enthusiastic': 807, 'responses': 1875, 'audience': 260, 'party': 1552, 'james': 1198, 'dorsey': 722, 'enthusiasm': 806, 'picking': 1595, 'rp': 1918, 'rally': 1759, 'savannah': 1942, 'newly': 1449, 'texas': 2194, 'sen': 1977, 'john': 1206, 'tower': 2229, 'featured': 893, 'speaker': 2062, 'warned': 2335, 'entering': 804, 'force': 933, 'petitions': 1590, 'voting': 2326, 'precincts': 1656, 'obtain': 1482, 'signatures': 2020, 'registered': 1813, 'despite': 651, 'warning': 2336, 'unanimous': 2255, 'vote': 2321, 'according': 97, 'attended': 254, 'crowd': 585, 'asked': 227, 'wanted': 2331, 'wait': 2328, 'make': 1323, 'voted': 2322, 'bed': 295, 'dissents': 701, 'largest': 1249, 'hurdle': 1109, 'face': 867, 'says': 1947, 'making': 1324, 'od': 1487, 'alternative': 171, 'courses': 568, 'taken': 2161, 'cent': 394, 'sign': 2018, 'requesting': 1855, 'allowed': 167, 'names': 1421, 'candidates': 370, 'ballot': 279, 'hold': 1085, 'unit': 2269, 'opposes': 1514, 'platform': 1609, 'sam': 1937, 'caldwell': 360, 'highway': 1077, 'public': 1734, 'relations': 1823, 'director': 679, 'resigned': 1869, 'lt': 1314, 'gov': 1002, 'garland': 974, 'byrd': 358, 'campaign': 367, 'resignation': 1868, 'expected': 845, 'time': 2210, 'rob': 1911, 'ledford': 1267, 'gainesville': 969, 'assistant': 238, 'years': 2391, 'gubernatorial': 1028, 'starts': 2091, 'coordinator': 542, 'wind': 2366, '1961': 28, 'session': 1995, 'monday': 1400, 'head': 1059, 'bond': 331, 'approved': 210, 'shortly': 2014, 'adjournment': 118, 'afternoon': 142, 'senate': 1978, 'approve': 209, 'study': 2121, 'allotted': 164, 'rural': 1927, 'urban': 2277, 'areas': 213, 'determine': 658, 'adjustments': 119, 'vandiver': 2290, 'traditional': 2233, 'visit': 2313, 'chambers': 402, 'likely': 1289, 'mention': 1368, '100': 2, 'issue': 1191, 'earlier': 743, 'priority': 1687, 'item': 1193, 'construction': 519, 'bonds': 332, 'learned': 1264, 'near': 1434, 'beg': 297, 'ready': 1777, '30': 46, 'worth': 2381, 'reconstruction': 1798, 'courts': 572, 'friendly': 957, 'test': 2190, 'validity': 2289, 'sales': 1935, 'begin': 298, 'contracts': 531, 'let': 1276, 'repair': 1838, 'heavily': 1067, 'traveled': 2237, 'highways': 1078, 'source': 2054, 'roads': 1910, 'authority': 264, 'road': 1909, 'revolving': 1898, 'fund': 963, 'apparently': 194, 'intends': 1172, 'issued': 1192, 'old': 1500, 'ones': 1502, 'paid': 1540, 'authorities': 263, 'opened': 1504, '1958': 26, 'battle': 291, 'issuance': 1190, '50': 59, 'marvin': 1338, 'told': 2217, 'constitution': 516, 'consulted': 523, 'plans': 1608, 'schley': 1952, 'rep': 1837, 'offer': 1491, 'resolution': 1870, 'house': 1102, 'rescind': 1862, 'body': 330, 'action': 105, 'ppl': 1646, '10': 1, 'day': 605, 'increase': 1140, 'expense': 848, 'allowances': 166, 'sunday': 2142, 'research': 1864, 'quickie': 1747, 'repealed': 1839, 'outright': 1536, 'notice': 1465, 'given': 991, 'reconsideration': 1797, 'sought': 2051, 'emphasizing': 776, 'technical': 2178, 'details': 655, 'fully': 960, 'worked': 2376, 'seek': 1969, 'aside': 225, 'privilege': 1690, '87': 76, '31': 48, 'similar': 2023, 'passed': 1556, '29': 44, 'word': 2373, 'offered': 1492, 'pointed': 1616, 'november': 1470, 'rejected': 1820, 'constitutional': 517, 'amendment': 177, 'allow': 165, 'pay': 1562, 'raises': 1757, 'sessions': 1996, 'veteran': 2301, 'jackson': 1196, 'legislator': 1272, 'aid': 150, 'education': 750, 'consistently': 512, 'opposed': 1513, 'past': 1558, 'mac': 1316, 'barber': 285, 'commerce': 463, 'asking': 228, 'endorse': 790, 'increased': 1141, 'support': 2146, 'provided': 1729, 'expended': 847, '13th': 9, 'members': 1364, 'congressional': 503, 'delegation': 629, 'washington': 2337, 'like': 1288, 'congressmen': 504, 'specifically': 2067, 'tossed': 2225, 'hopper': 1094, 'formally': 938, 'read': 1775, 'event': 828, 'congress': 502, 'does': 714, 'doz': 726, 'board': 329, 'directed': 676, 'teacher': 2173, 'colquitt': 455, 'long': 1309, 'hot': 1098, 'controversy': 535, 'miller': 1381, 'school': 1957, 'superintendent': 2143, 'policeman': 1619, 'coolest': 538, 'saw': 1945, 'harry': 1050, 'davis': 604, 'agriculture': 149, 'defeated': 621, 'felix': 901, 'bush': 356, 'principal': 1684, 'democratic': 634, '119': 5, 'votes': 2325, 'saturday': 1941, 'got': 1000, '402': 53, 'carey': 380, 'armed': 217, 'pistol': 1600, 'stood': 2109, 'polls': 1626, 'insure': 1168, 'order': 1518, 'calmest': 365, 'tom': 2219, 'just': 1219, 'church': 422, 'didn': 668, 'smell': 2036, 'drop': 735, 'liquor': 1294, 'bit': 323, 'trouble': 2244, 'leading': 1260, 'quiet': 1749, 'marked': 1333, 'anonymous': 188, 'midnight': 1378, 'phone': 1592, 'calls': 364, 'veiled': 2299, 'threats': 2205, 'violence': 2311, 'george': 985, 'callan': 362, 'shot': 2015, 'death': 611, 'march': 1332, '18': 15, 'days': 606, 'post': 1641, 'dispute': 699, 'reportedly': 1846, 'telephone': 2180, 'subjected': 2124, 'soon': 2050, 'scheduled': 1950, 'local': 1305, 'feared': 891, 'carry': 382, 'gun': 1032, 'promised': 1714, 'sheriff': 2008, 'tabb': 2158, 'good': 998, 'promise': 1713, 'went': 2352, 'real': 1778, 'smooth': 2037, 'wasn': 2338, 'austin': 262, 'approval': 208, 'price': 1678, 'daniel': 599, 'abandoned': 81, 'certain': 397, 'thursday': 2208, 'adamant': 111, 'protests': 1726, 'bankers': 282, 'personally': 1583, 'led': 1266, 'fight': 907, 'measure': 1357, 'watered': 2340, 'considerably': 510, 'rejection': 1821, 'legislatures': 1275, 'hearing': 1064, 'revenue': 1891, 'taxation': 2168, 'rules': 1921, 'automatically': 268, 'subcommittee': 2122, 'week': 2348, 'questions': 1746, 'taunted': 2166, 'appearing': 196, 'witnesses': 2370, 'left': 1268, 'little': 1298, 'doubt': 725, 'recommend': 1792, 'passage': 1555, 'termed': 2188, 'extremely': 865, 'conservative': 507, 'estimate': 825, 'produce': 1702, '17': 14, 'dollars': 717, 'help': 1070, 'erase': 813, 'anticipated': 189, 'deficit': 625, '63': 65, 'current': 592, 'fiscal': 922, 'merely': 1370, 'means': 1355, 'enforcing': 796, 'escheat': 817, 'books': 333, 'republic': 1851, 'permits': 1578, 'bank': 281, 'accounts': 98, 'stocks': 2107, 'personal': 1582, 'persons': 1585, 'missing': 1391, 'seven': 2003, 'drafted': 729, 'banks': 283, 'insurance': 1167, 'firms': 921, 'pipeline': 1598, 'companies': 472, 'corporations': 548, 'report': 1844, 'treasurer': 2238, 'enforced': 794, 'impossible': 1130, 'locate': 1307, 'declared': 615, 'dewey': 665, 'lawrence': 1255, 'tyler': 2251, 'lawyer': 1257, 'representing': 1849, 'sounded': 2053, 'opposition': 1515, 'keynote': 1229, 'violate': 2309, 'contractual': 532, 'obligations': 1479, 'depositors': 644, 'undermine': 2262, 'confidence': 497, 'customers': 594, 'destroy': 652, 'economy': 749, 'circulation': 423, 'millions': 1383, 'charles': 411, 'hughes': 1108, 'sherman': 2009, 'sponsor': 2076, 'enact': 782, 'gift': 989, 'pockets': 1614, 'contention': 527, 'denied': 635, 'including': 1137, 'scott': 1963, 'hudson': 1106, 'gaynor': 978, 'jones': 1209, 'houston': 1104, 'brady': 342, 'harlingen': 1048, 'howard': 1105, 'cox': 575, 'argued': 214, 'probably': 1692, 'unconstitutional': 2258, 'impair': 1125, 'complained': 476, 'introduced': 1181, 'senators': 1980, 'unanimously': 2256, 'parkhouse': 1545, 'dallas': 597, 'authorizing': 267, 'schools': 1959, 'deaf': 607, 'designed': 650, 'special': 2065, 'schooling': 1958, 'students': 2119, 'scholastic': 1955, 'reduced': 1802, 'debate': 612, 'authorize': 265, 'agency': 145, 'establish': 821, 'wide': 2359, '300': 47, '000': 0, 'population': 1631, 'require': 1857, 'children': 419, 'attend': 253, 'permitting': 1580, 'older': 1501, 'residential': 1866, 'budget': 350, 'harris': 1049, 'bexar': 316, 'tarrant': 2165, 'el': 761, 'paso': 1553, '451': 55, '500': 60, 'savings': 1944, '157': 13, '460': 56, 'yearly': 2390, 'capital': 375, 'outlay': 1530, '88': 77, 'absorbed': 90, 'tea': 2171, 'estimated': 826, '182': 17, 'scholastics': 1956, 'saving': 1943, 'coming': 461, 'live': 1299, 'hear': 1062, 'horse': 1095, 'parimutuels': 1543, 'reps': 1850, 'red': 1800, 'joe': 1205, 'ratcliff': 1763, 'expects': 846, 'tell': 2182, 'folks': 927, 'thinks': 2202, 'pro': 1691, 'letters': 1279, 'betting': 315, 'believe': 299, 'people': 1572, 'better': 314, 'informed': 1154, 'question': 1743, 'oppose': 1512, 'bem': 304, 'willing': 2365, 'stake': 2086, 'gambler': 973, 'san': 1938, 'antonio': 190, 'advocacy': 134, 'ponies': 1627, 'heard': 1063, 'option': 1517, 'proposal': 1717, 'favorable': 888, 'faces': 869, 'sledding': 2034, 'later': 1250, 'finally': 912, 'sent': 1984, 'extending': 861, 'planning': 1607, 'cities': 426, 'quickly': 1748, 'whipped': 2357, 'meager': 1352, 'fare': 883, 'bills': 320, 'committees': 467, 'passing': 1557, 'calendar': 361, 'validated': 2288, 'acts': 108, 'districts': 706, 'enlarged': 800, 'beaumont': 294, 'navigation': 1433, 'district': 705, 'amended': 176, 'creation': 576, 'lamar': 1244, 'previously': 1677, 'adopted': 126, 'dissent': 700, 'schwartz': 1960, 'galveston': 972, 'mentally': 1367, 'retarded': 1884, 'gulf': 1031, 'coast': 447, 'meantime': 1356, 'accept': 93, 'gifts': 990, 'donations': 721, 'site': 2027, 'revision': 1895, 'louis': 1313, 'crump': 587, 'saba': 1930, 'retailers': 1882, 'group': 1022, 'miscellaneous': 1388, 'excise': 838, 'taxes': 2169, 'eliminating': 771, 'requirement': 1859, 'return': 1888, 'notarized': 1463, 'instead': 1164, 'certificate': 399, 'correctness': 551, 'violation': 2310, 'penalty': 1569, 'plus': 1612, 'fine': 916, 'series': 1988, 'league': 1261, 'aikin': 153, 'paris': 1544, 'relieve': 1829, 'estate': 824, 'brokers': 347, 'annual': 187, 'licensing': 1286, 'fee': 896, '12': 6, 'license': 1284, 'natural': 1430, 'gas': 976, 'utility': 2285, 'right': 1903, 'eminent': 773, 'domain': 718, 'frank': 948, 'owen': 1539, 'acquire': 102, 'sites': 2028, 'underground': 2260, 'storage': 2110, 'reservoirs': 1865, 'marshall': 1335, 'formby': 940, 'plainview': 1605, 'commission': 464, 'suggested': 2134, 'vacancies': 2286, 'need': 1435, 'costly': 555, 'elections': 765, 'appointee': 201, 'selected': 1972, 'composed': 483, 'lieutenant': 1287, 'chief': 417, 'justice': 1220, 'supreme': 2148, 'representatives': 1848, 'decided': 613, 'taking': 2163, 'poll': 1625, 'kind': 1232, 'texans': 2193, 'prefer': 1659, 'adverse': 129, '81': 75, '65': 67, 'kept': 1228, 'affairs': 136, 'referendum': 1805, 'april': 211, 'senator': 1979, 'wesley': 2353, 'roberts': 1913, 'seminole': 1975, 'idea': 1116, 'delay': 628, 'kill': 1231, 'west': 2354, 'texan': 2192, 'reported': 1845, 'gotten': 1001, 'hollowell': 1087, 'feb': 894, '22': 36, 'final': 911, 'legislative': 1271, 'thirds': 2203, 'majorities': 1322, 'printed': 1686, 'opponents': 1511, 'couldn': 558, 'information': 1153, 'proposals': 1718, 'intelligent': 1171, 'choice': 420, 'absent': 87, 'paradise': 1541, 'lost': 1312, 'alleged': 159, 'water': 2339, 'needs': 1437, 'big': 318, 'cotten': 557, 'weatherford': 2345, 'insisted': 1160, 'development': 663, 'effort': 758, 'fort': 942, 'cover': 573, 'places': 1603, 'wise': 2368, 'hamlet': 1038, '250': 42, 'shouting': 2016, 'ended': 789, '114': 4, 'sending': 1981, 'sponsored': 2077, '15': 11, 'maximum': 1347, 'loan': 1304, 'project': 1711, 'construed': 521, 'large': 1248, 'felt': 903, 'spent': 2072, 'providing': 1731, 'statements': 2094, 'paying': 1563, 'benefit': 307, 'rbt': 1771, 'pending': 1570, 'sway': 2155, 'attack': 250, 'defenders': 623, 'small': 2035, 'town': 2230, 'buchanan': 349, 'dumas': 740, 'eligio': 769, 'kika': 1230, 'la': 1239, 'garza': 975, 'mission': 1392, 'collins': 451, 'newton': 1450, 'chapman': 408, 'sulphur': 2138, 'springs': 2080, 'poor': 1629, 'boy': 341, 'peanut': 1566, 'serving': 1994, 'reducing': 1803, 'learning': 1265, 'educational': 751, 'methods': 1375, 'grover': 1024, 'teaches': 2175, 'history': 1082, '24': 38, 'semester': 1974, 'hours': 1101, 'called': 363, 'teaching': 2176, 'required': 1858, 'junior': 1215, 'senior': 1982, 'high': 1074, 'normal': 1459, 'college': 450, 'teachers': 2174, 'credit': 577, 'subject': 2123, 'remainder': 1832, 'subjects': 2125, 'person': 1581, 'master': 1342, 'degree': 627, 'physics': 1594, 'chemistry': 414, 'math': 1344, 'english': 798, 'permitted': 1579, 'teach': 2172, '150': 12, 'immediately': 1124, 'joined': 1208, 'signers': 2021, 'sp': 2060, 'regents': 1811, 'named': 1420, 'dr': 727, 'clarence': 431, 'clark': 432, 'hays': 1058, 'kan': 1223, 'president': 1669, 'succeed': 2131, 'mclemore': 1350, 'retire': 1885, 'close': 443, 'holds': 1086, 'earned': 746, 'university': 2272, 'oklahoma': 1499, 'science': 1961, 'bachelor': 276, 'southwestern': 2057, 'okla': 1498, 'addition': 115, 'rhode': 1899, 'island': 1189, 'massachusetts': 1341, 'institute': 1165, 'technology': 2179, 'captain': 377, 'basketball': 290, 'team': 2177, 'football': 932, 'letterman': 1278, 'served': 1991, 'athletic': 244, 'raymondville': 1768, 'instructor': 1166, 'associate': 240, 'professor': 1705, 'border': 337, 'patrolman': 1561, 'signal': 2019, 'corps': 549, 'army': 219, 'denton': 638, 'principals': 1685, 'independent': 1145, '62': 64, 'recommendation': 1793, 'supt': 2149, 'chester': 416, 'strickland': 2115, 'racial': 1752, 'discrimination': 690, 'employment': 780, 'yesterday': 2393, 'ribbon': 1900, 'dependent': 643, 'culminating': 591, 'adc': 112, 'cook': 537, 'york': 2394, 'consulting': 524, 'firm': 918, 'range': 1760, 'soaring': 2039, 'case': 385, 'load': 1303, 'causes': 390, 'family': 881, 'breakdown': 344, 'desertion': 648, 'dependency': 642, 'solve': 2047, 'monthly': 1402, 'recipients': 1790, 'virgil': 2312, 'martin': 1336, 'carson': 384, 'pirie': 1599, 'problems': 1694, 'forced': 934, 'depend': 641, 'subsistence': 2130, 'volume': 2319, 'cases': 386, 'decrease': 617, 'community': 471, 'able': 84, 'deal': 608, 'effectively': 756, 'relatively': 1825, 'limited': 1291, 'skills': 2033, 'color': 454, 'underlying': 2261, 'breakups': 345, 'extension': 862, 'living': 1302, 'relatives': 1826, 'parents': 1542, 'preserving': 1668, 'unity': 2271, 'projects': 1712, 'prevention': 1675, 'illegitimacy': 1121, 'defendants': 622, 'summerdale': 2141, 'burglary': 355, 'trial': 2243, 'indicating': 1147, 'guilt': 1029, 'arrest': 221, 'parsons': 1546, 'criminal': 579, 'disclosure': 688, 'bellows': 302, 'defense': 624, 'counsel': 560, 'startled': 2090, 'observers': 1481, 'viewed': 2306, 'prelude': 1661, 'quarrel': 1742, 'policemen': 1620, 'grant': 1010, 'client': 440, 'alan': 158, 'clements': 437, 'separate': 1985, 'request': 1854, 'woman': 2371, 'courtroom': 571, 'fears': 892, 'prejudicial': 1660, 'aspects': 230, 'highly': 1076, 'strongly': 2117, 'indicated': 1146, 'knew': 1233, 'receiving': 1787, 'stolen': 2108, 'involving': 1187, 'ppls': 1647, 'leaned': 1262, 'bench': 306, 'inquired': 1157, 'mean': 1353, 'admitting': 124, 'yes': 2392, 'honor': 1090, 'replied': 1842, 'amounts': 182, 'true': 2247, 'free': 950, 'conflict': 499, 'july': 1214, 'kennedy': 1226, 'today': 2216, 'pushed': 1738, 'white': 2358, 'business': 357, 'devote': 664, 'attention': 256, 'working': 2379, 'berlin': 310, 'crisis': 580, 'address': 117, 'deliver': 631, 'tomorrow': 2220, 'american': 179, 'nationwide': 1428, 'television': 2181, 'radio': 1753, 'summer': 2140, 'cape': 374, 'cod': 448, 'writing': 2386, 'drafts': 730, 'portions': 1635, 'aids': 152, 'wpo': 2383, 'talked': 2164, 'returned': 1889, 'midmorning': 1377, 'hyannis': 1115, 'port': 1633, 'mass': 1340, 'spokesman': 2074, 'text': 2195, 'quite': 1750, 'abl': 83, 'way': 2342, 'completion': 481, 'decisions': 614, 'pierre': 1596, 'salinger': 1936, 'press': 1671, 'secretary': 1966, 'say': 1946, 'advisers': 132, 'staff': 2084, 'doing': 715, 'involved': 1186, 'composition': 484, 'wording': 2374, 'minute': 1387, 'meet': 1360, 'latest': 1251, 'precipitated': 1657, 'russia': 1929, 'demands': 633, 'nov': 1469, 'dismissed': 694, 'acting': 104, 'karns': 1224, 'prosecution': 1722, 'obtained': 1483, 'unfair': 2267, 'fundamentally': 964, 'illegal': 1120, 'matter': 1345, 'significance': 2022, 'innocence': 1156, 'legal': 1269, 'rights': 1904, 'ruling': 1922, 'pertained': 1587, 'ruled': 1920, 'unable': 2254, 'contempt': 525, 'proceedings': 1698, 'originally': 1526, '677': 68, '133': 8, 'morris': 1406, 'wexler': 2356, 'prosecutor': 1723, 'subpoenas': 2129, 'admitted': 123, 'hearings': 1065, 'subpenas': 2128, '200': 33, 'questioned': 1744, 'individuals': 1150, 'building': 352, 'mayer': 1348, 'goldberg': 997, 'judges': 1213, '58th': 62, 'precinct': 1655, '23d': 37, 'ward': 2333, 'procedure': 1695, 'constituted': 515, 'intimidation': 1180, 'repeatedly': 1841, 'coercion': 449, 'used': 2282, 'questioning': 1745, 'wrongful': 2387, 'privately': 1689, 'outside': 1537, 'room': 1914, 'misuse': 1394, 'processes': 1700, 'actually': 109, 'abuse': 91, 'process': 1699, 'altho': 172, 'vindication': 2308, 'function': 962, 'east': 747, 'st': 2083, 'sitting': 2029, 'faced': 868, '35': 51, 'complementary': 477, 'miscount': 1389, '33d': 50, '24th': 40, '42d': 54, '31st': 49, '21st': 35, '28th': 43, '29th': 45, '18th': 18, '4th': 58, '9th': 80, 'advisement': 131, 'claims': 430, 'precedent': 1654, 'reading': 1776, 'statement': 2093, 'discharging': 686, 'subpenaed': 2127, 'dismiss': 693, 'mammoth': 1326, 'care': 378, 'social': 2040, 'security': 1968, '70': 69, 'workers': 2378, 'raised': 1756, '14': 10, 'americans': 180, 'covered': 574, 'railroad': 1755, 'retirement': 1887, 'programs': 1710, 'message': 1372, 'tied': 2209, 'aged': 144, 'requests': 1856, 'grants': 1012, 'finance': 913, 'dental': 636, 'scholarships': 1954, 'build': 351, '20': 32, 'expand': 843, 'capitol': 376, 'hill': 1079, '37': 52, 'financed': 914, 'boosting': 335, 'payroll': 1565, 'worker': 2377, 'employer': 778, '800': 74, 'boost': 334, 'base': 286, '25': 41, 'boosts': 336, 'imposed': 1129, 'rise': 1905, 'starting': 2089, '1963': 30, 'levy': 1282, 'outlays': 1531, 'billion': 319, 'benefits': 308, 'figures': 909, 'higher': 1075, 'parts': 1551, 'entail': 802, '750': 73, 'nursing': 1478, 'carries': 381, 'systems': 2157, 'payment': 1564, 'stays': 2100, '90': 78, 'illness': 1122, 'patient': 1560, '180': 16, 'following': 930, 'discharge': 685, 'formula': 941, 'allowing': 168, 'use': 2281, 'outpatient': 1535, 'clinic': 442, 'diagnostic': 666, 'service': 1992, 'excess': 837, 'visiting': 2314, 'nurse': 1477, '240': 39, 'noted': 1464, 'states': 2095, 'needy': 1438, 'modest': 1397, 'wish': 2369, 'staggered': 2085, 'drain': 731, 'caused': 389, 'extended': 860, 'stay': 2099, 'cut': 595, 'absolutely': 89, 'essential': 820, 'sufficient': 2133, 'deductible': 618, 'requirements': 1860, 'discourage': 689, 'malingering': 1325, 'unnecessary': 2275, 'overcrowding': 1538, 'hospitals': 1097, 'socialized': 2042, 'medicine': 1359, 'prepayment': 1664, 'absolute': 88, 'freedom': 951, 'guaranteed': 1026, 'choose': 421, 'wouldn': 2382, 'doctors': 712, 'apart': 192, 'ambitious': 175, 'enlarge': 799, 'nation': 1423, '92': 79, '47': 57, 'handle': 1042, 'student': 2118, 'needed': 1436, 'rising': 1906, 'qualified': 1741, 'young': 2395, 'going': 996, 'dentistry': 637, 'afford': 140, 'contributions': 533, 'scholarship': 1953, 'equal': 810, 'fourth': 946, 'based': 287, 'government': 1003, '21': 34, '1966': 31, 'matching': 1343, 'totaling': 2226, '700': 70, 'constructing': 518, 'enlarging': 801, 'capacity': 373, 'existing': 842, 'area': 212, 'doubling': 724, 'initial': 1155, 'appropriation': 207, 'stimulatory': 2106, 'improve': 1132, 'unspecified': 2276, 'sum': 2139, 'experimental': 850, 'field': 906, 'bureau': 354, 'national': 1424, 'asks': 229, 'vocational': 2317, 'rehabilitation': 1818, 'facilities': 870, 'propose': 1719, 'increasing': 1143, '540': 61, 'direct': 675, 'combine': 457, 'indispensable': 1148, 'elements': 767, 'sound': 2052, 'knowledge': 1236, 'reaction': 1774, 'lines': 1293, 'placing': 1604, 'criticized': 583, 'backed': 277, 'hailed': 1034, 'republican': 1852, 'leader': 1258, 'dirksen': 680, 'ill': 1119, 'halleck': 1036, 'ind': 1144, 'persuade': 1586, 'change': 404, 'compulsory': 485, 'voluntary': 2320, 'enacted': 783, 'rayburn': 1766, 'tex': 2191, 'mighty': 1379, 'thing': 2199, 'prediction': 1658, 'fate': 886, 'hastily': 1055, 'pressure': 1672, 'tonight': 2221, 'confirmed': 498, 'weaver': 2346, 'housing': 1103, '11': 3, 'floor': 926, 'record': 1799, 'scattered': 1949, 'ayes': 275, 'noes': 1456, 'customary': 593, 'ignored': 1118, 'speed': 2071, 'negro': 1441, 'administrator': 121, 'presidential': 1670, 'appointments': 204, 'cabinet': 359, 'rank': 1761, 'immediate': 1123, 'rule': 1919, 'requiring': 1861, 'hour': 1100, 'enforce': 793, 'demand': 632, 'wayne': 2343, 'morse': 1407, 'ore': 1522, 'connection': 505, 'eisenhower': 760, 'selections': 1973, '1953': 24, 'oslo': 1527, 'positive': 1638, 'element': 766, 'emerge': 772, 'north': 1460, 'atlantic': 246, 'treaty': 2240, 'organization': 1523, 'foreign': 936, 'ministers': 1385, 'freer': 952, 'franker': 949, 'wider': 2360, 'discussions': 692, 'animated': 185, 'mutual': 1418, 'understanding': 2263, 'meetings': 1362, 'nature': 1431, 'proceed': 1697, 'route': 1916, 'step': 2104, 'dramatic': 732, 'changes': 406, 'met': 1373, 'climate': 441, 'candor': 371, 'genuine': 983, 'attempt': 252, 'atmosphere': 247, 'particularly': 1548, 'noticeable': 1466, 'concerned': 488, 'colonialist': 453, 'powers': 1644, 'hvn': 1113, 'nightmare': 1452, 'clash': 433, 'africa': 141, 'exacerbated': 833, 'difficulties': 672, 'tragedies': 2235, 'facing': 871, 'allies': 163, 'intellectually': 1170, 'emotionally': 774, 'disapprove': 684, 'circumstances': 424, 'troubles': 2245, 'conspicuous': 513, 'absence': 86, 'explosion': 857, 'avoided': 272, 'portugal': 1636, 'weeks': 2350, 'ago': 147, 'rumored': 1924, 'walk': 2329, 'nato': 1429, 'critics': 584, 'angola': 184, 'policy': 1622, 'prove': 1727, 'harsh': 1051, 'relaxation': 1827, 'tension': 2185, 'remarkably': 1833, 'courteous': 570, 'explanation': 855, 'basic': 288, 'positions': 1637, 'unchanged': 2257, 'bitter': 324, 'surprises': 2151, 'assembly': 233, 'ad': 110, 'fw': 967, 'hoc': 1084, 'discussed': 691, 'advance': 127, 'canada': 368, 'somewhat': 2048, 'allied': 162, 'cars': 383, 'track': 2231, 'locomotive': 1308, 'norway': 1462, 'daily': 596, 'manifestations': 1329, 'atomic': 248, 'arms': 218, 'heart': 1066, 'northernmost': 1461, 'alliance': 161, 'closer': 444, 'line': 1292, 'negative': 1439, 'balance': 278, 'sheet': 2006, 'disappointment': 683, 'united': 2270, 'leadership': 1259, 'hoped': 1092, 'diplomat': 673, 'described': 647, 'tenor': 2184, 'dean': 610, 'rusk': 1928, 'speeches': 2070, 'inconclusive': 1138, 'hastened': 1054, 'add': 113, 'clear': 435, 'mr': 1413, 'analysis': 183, 'various': 2292, 'global': 992, 'danger': 598, 'points': 1617, 'setbacks': 1999, 'firmly': 920, 'fixed': 924, 'exploratory': 856, 'mood': 1405, 'vagueness': 2287, 'tactical': 2160, 'appreciation': 206, 'semipublic': 1976, 'affair': 135, 'fewer': 904, 'soviet': 2059, 'correspondents': 553, 'accredited': 99, 'impression': 1131, 'popularity': 1630, 'came': 366, 'tentative': 2186, 'frame': 947, 'mind': 1384, 'listen': 1297, 'learn': 1263, 'enunciate': 809, 'scale': 1948, 'detailed': 654, 'application': 197, 'individual': 1149, 'spots': 2078, 'speech': 2069, 'gave': 977, 'tremendous': 2241, 'events': 829, 'inside': 1158, 'preoccupied': 1662, 'months': 1403, 'core': 546, 'reiterated': 1819, 'profound': 1708, 'attachment': 249, 'cornerstone': 547, 'nuclear': 1474, 'submarines': 2126, 'eventually': 830, 'disposal': 696, 'european': 827, 'waters': 2341, 'solemnly': 2045, 'repeated': 1840, 'union': 2268, 'stand': 2087, 'setback': 1998, 'affirmation': 138, 'surveyed': 2153, 'greatest': 1015, 'achievement': 101, 'rekindling': 1822, 'realization': 1779, 'friction': 955, 'globe': 993, 'essence': 819, 'entirely': 808, 'different': 670, 'societies': 2043, 'treated': 2239, 'regard': 1809, 'geographical': 984, 'distance': 702, 'lack': 1241, 'apparent': 193, 'spring': 2079, 'impetus': 1126, 'main': 1318, 'directions': 678, 'deeper': 619, 'timely': 2211, 'consultation': 522, 'economic': 748, 'cooperation': 539, 'ratified': 1765, 'method': 1374, 'coordinating': 541, 'underdeveloped': 2259, 'countries': 564, 'strengthening': 2113, 'conventional': 536, 'forces': 935, 'maintenance': 1320, 'deterrent': 660, 'threshold': 2206, 'difficult': 671, 'come': 459, 'ally': 169, 'laid': 1243, 'completely': 479, 'fulfilled': 959, 'moves': 1411, 'haltingly': 1037, 'geneva': 982, 'conference': 495, 'laos': 1246, 'erupts': 816, 'optimism': 1516, 'communists': 469, 'docile': 710, 'table': 2159, 'military': 1380, 'ground': 1020, 'explain': 853, 'mainly': 1319, 'interested': 1173, 'setting': 2000, 'international': 1177, 'inspection': 1161, 'prevent': 1674, 'communist': 468, 'attacks': 251, 'neighboring': 1443, 'thailand': 2196, 'south': 2055, 'viet': 2305, 'nam': 1419, 'count': 562, 'neutral': 1445, 'attending': 255, 'hopes': 1093, 'lao': 1245, 'dominated': 719, 'acceptable': 94, 'possibility': 1639, 'modified': 1399, 'inclination': 1135, 'facto': 873, 'cease': 393, 'insist': 1159, 'verification': 2300, 'control': 534, 'participating': 1547, 'modifications': 1398, 'compelled': 473, 'excuses': 839, 'chain': 400, 'errors': 815, 'spokesmen': 2075, 'reforms': 1808, 'critical': 581, 'moving': 1412, 'confrontations': 500, 'showing': 2017, 'gain': 968, 'world': 2380, 'arises': 215, 'dealing': 609, 'aggression': 146, 'vice': 2302, 'richard': 1901, 'nixon': 1453, 'detroit': 661, 'firmer': 919, 'tougher': 2228, 'feels': 899, 'tendency': 2183, 'conciliatory': 490, 'restrained': 1879, 'gallup': 971, 'understates': 2264, 'situation': 2030, 'hardly': 1047, 'restrain': 1878, 'raising': 1758, 'power': 1643, 'amateurish': 173, 'monumental': 1404, 'blunders': 328, 'cuba': 589, 'correspondent': 552, 'constantly': 514, 'score': 1962, 'reply': 1843, 'country': 565, 'politics': 1624, 'wisdom': 2367, 'thruston': 2207, 'morton': 1408, 'kentucky': 1227, 'responsible': 1877, 'outcome': 1528, 'coalition': 446, 'susceptible': 2154, 'domination': 720, 'assailed': 231, 'direction': 677, 'harvard': 1053, 'boston': 338, 'brandeis': 343, 'educators': 752, 'detente': 656, 'pleads': 1611, 'invasion': 1183, 'exile': 841, 'groups': 1023, 'recommends': 1796, 'detach': 653, 'castro': 387, 'regime': 1812, 'bloc': 326, 'diplomatic': 674, 'resumption': 1881, 'trade': 2232, 'concentrate': 486, 'constructive': 520, 'efforts': 759, 'latin': 1252, 'america': 178, 'conditions': 493, 'totalitarian': 2227, 'nationalism': 1425, 'feeds': 897, 'intervention': 1179, 'specific': 2066, 'provocation': 1733, 'clearly': 436, 'shipped': 2010, 'tolerated': 2218, 'cuban': 590, 'fiasco': 905, 'victories': 2303, 'observer': 1480, 'blended': 325, 'respected': 1872, 'opinions': 1510, 'voiced': 2318, 'professors': 1706, 'revamped': 1890, 'early': 745, 'kremlin': 1238, 'channels': 407, 'disclosed': 687, 'react': 1773, 'formative': 939, 'period': 1575, 'strenuous': 2114, 'remove': 1836, 'pin': 1597, 'pricking': 1681, 'ban': 280, 'negotiations': 1440, 'reviewed': 1893, 'changed': 405, 'far': 882, 'response': 1874, 'emphasis': 775, 'encourage': 785, 'reform': 1807, 'recipient': 1789, 'nations': 1427, 'looked': 1310, 'determination': 657, 'sailing': 1933, 'naval': 1432, 'fleet': 925, 'southeast': 2056, 'asian': 224, 'useless': 2283, 'gesture': 987, 'freeze': 953, 'aided': 151, 'pathet': 1559, 'faster': 885, 'rate': 1764, 'territory': 2189, 'exposed': 858, 'huge': 1107, 'acclaimed': 96, 'performing': 1574, 'great': 1013, 'asia': 223, 'seato': 1965, 'steamed': 2101, 'prepared': 1663, 'contingency': 528, 'coping': 544, 'losses': 1311, 'want': 2330, 'risk': 1907, 'war': 2332, 'disagreed': 682, 'complication': 482, 'concluded': 491, 'suited': 2137, 'unlike': 2273, 'determined': 659, 'neighbors': 1444, 'favor': 887, 'neutralized': 1447, 'western': 2355, 'helped': 1071, 'revolt': 1897, 'souvanna': 2058, 'phouma': 1593, 'neutralist': 1446, 'appear': 195, 'spark': 2061, 'fighting': 908, 'spirit': 2073, 'royal': 1917, 'certainly': 398, 'energy': 792, 'displayed': 695, 'hilt': 1080, 'ideas': 1117, 'prince': 1683, 'trusting': 2248, 'gradually': 1007, 'relinquish': 1831, 'factor': 874, 'fulbright': 958, 'arkansas': 216, 'erred': 814, 'half': 1035, 'encouraging': 787, 'removal': 1835, 'extraordinary': 864, 'check': 413, 'rapid': 1762, 'growth': 1025, 'juvenile': 1222, 'delinquency': 630, 'deeply': 620, 'vitality': 2316, 'important': 1128, 'assertion': 234, 'establishing': 822, 'crime': 578, 'supported': 2147, 'assisted': 239, 'advisory': 133, 'recognized': 1791, 'enactment': 784, 'specified': 2068, 'combating': 456, 'disturbing': 707, 'trend': 2242, 'offenses': 1490, 'multiply': 1416, 'labor': 1240, 'coordinate': 540, 'assist': 236, 'communities': 470, 'cope': 543, 'simultaneously': 2025, 'david': 603, 'hackett': 1033, 'youth': 2396, 'sense': 1983, 'urgency': 2279, 'stems': 2103, 'arrests': 222, 'doubled': 723, '1948': 23, 'offenders': 1488, '1959': 27, 'larceny': 1247, 'providence': 1730, 'organize': 1524, 'civil': 429, 'setup': 2002, 'appointing': 202, 'raymond': 1767, 'hawksley': 1057, 'locally': 1306, 'outline': 1533, 'earliest': 744, 'noting': 1467, 'handed': 1040, 'responsibility': 1876, 'salary': 1934, 'expressed': 859, 'opinion': 1509, 'hire': 1081, 'basis': 289, 'defray': 626, 'believed': 300, 'residents': 1867, 'job': 1204, 'men': 1365, 'laughlin': 1253, 'headquarters': 1060, 'pertinent': 1588, 'centralized': 396, 'advantage': 128, 'having': 1056, 'hvg': 1112, 'eligible': 768, 'apply': 198, 'financial': 915, 'equipment': 811, 'procurement': 1701, 'radios': 1754, 'sirens': 2026, 'rescue': 1863, 'trucks': 2246, 'vehicle': 2298, 'central': 395, 'station': 2096, 'assign': 235, 'riverside': 1908, 'section': 1967, 'rumford': 1923, 'speaking': 2063, 'status': 2097, 'bet': 313, 'know': 1234, 'enemy': 791, 'narragansett': 1422, 'grounds': 1021, 'point': 1615, 'drive': 734, 'theater': 2198, 'seekonk': 1970, 'knowing': 1235, 'assemble': 232, 'air': 154, 'vital': 2315, 'frequently': 954, 'regular': 1816, 'intervals': 1178, 'fails': 876, 'consider': 509, 'developed': 662, 'things': 2200, 'classes': 434, 'drifts': 733, 'level': 1280, 'examine': 835, 'revisions': 1896, 'notte': 1468, 'form': 937, 'letter': 1277, 'miss': 1390, 'mary': 1339, 'deputy': 646, 'clerk': 439, 'falls': 879, 'copy': 545, 'released': 1828, 'responding': 1873, 'urges': 2280, 'complete': 478, 'eye': 866, 'perform': 1573, 'review': 1892, 'atty': 259, 'gen': 979, 'joseph': 1210, 'nugent': 1475, 'views': 2307, 'appoint': 199, 'expect': 844, 'religious': 1830, 'affected': 137, 'wrote': 2388, 'continuous': 530, 'confronts': 501, 'enforcement': 795, 'officers': 1494, 'regulating': 1817, 'advised': 130, 'shirking': 2011, 'activity': 107, 'statutes': 2098, 'bay': 292, 'dating': 601, 'instances': 1163, 'colonial': 452, 'times': 2212, 'severely': 2004, 'limit': 1290, 'types': 2253, 'merchandise': 1369, 'sold': 2044, 'sabbath': 1931, 'concern': 487, 'especially': 818, 'foods': 931, 'placed': 1602, 'list': 1295, 'neighborhood': 1442, 'grocery': 1017, 'variety': 2291, 'stores': 2111, 'chance': 403, 'compete': 475, 'supermarkets': 2145, 'shops': 2013, 'retained': 1883, 'livelihood': 1301, 'thousands': 2204, 'declares': 616, 'licenses': 1285, 'factory': 875, 'outlets': 1532, 'operate': 1505, 'contended': 526, 'shopping': 2012, 'liberals': 1283, 'conservatives': 508, 'parties': 1549, 'reama': 1782, 'nationally': 1426, 'known': 1237, 'expert': 851, 'rotary': 1915, 'club': 445, 'luncheon': 1315, 'sheraton': 2007, 'biltmore': 321, 'hotel': 1099, 'type': 2252, 'enterprise': 805, 'regrouping': 1815, 'average': 271, 'voter': 2323, 'pull': 1735, 'lever': 1281, 'confessing': 496, 'member': 1363, 'socialist': 2041, '1910': 19, 'machinist': 1317, 'toolmaker': 2223, 'fellow': 902, 'grooming': 1018, 'steered': 2102, 'utilities': 2284, 'pooling': 1628, 'resources': 1871, 'gaining': 970, 'victory': 2304, 'original': 1525, 'retired': 1886, 'screw': 1964, '1955': 25, 'gross': 1019, 'product': 1704, 'dtx': 739, 'favors': 890, 'wage': 2327, 'increases': 1142, 'manufacturers': 1331, 'caught': 388, 'profit': 1707, 'squeeze': 2081, 'conditioned': 492, 'turned': 2250, 'philosophy': 1591, 'dividing': 708, 'really': 1781, 'engaged': 797, 'industrial': 1151, 'counseling': 561, 'bearing': 293, 'johnston': 1207, 'presented': 1666, 'obtaining': 1484, 'charter': 412, 'martinelli': 1337, 'transferred': 2236, 'hand': 1039, 'suggestion': 2135, 'fortin': 943, 'sr': 2082, 'governs': 1006, 'referred': 1806, 'canvassers': 372, 'happens': 1045, 'explained': 854, 'assure': 242, 'scheduling': 1951, '60': 63, 'completes': 480, 'difference': 669, 'arose': 220, 'bourcier': 339, 'solicitor': 2046, 'exact': 834, 'handled': 1043, 'justices': 1221, 'favoring': 889, 'assured': 243, 'correct': 550, 'strategy': 2112, 'movement': 1410, 'undoubtedly': 2265, 'comes': 460, 'inspiring': 1162, 'think': 2201, 'hope': 1091, 'spearhead': 2064, 'surprised': 2150, 'running': 1926, 'non': 1458, 'partisan': 1550, 'posts': 1642, 'goal': 994, 'awareness': 274, 'timetable': 2213, 'followed': 929, 'started': 2088, 'insurgent': 1169, 'model': 1395, 'municipal': 1417, 'misunderstanding': 1393, 'meaning': 1354, 'cited': 425, 'false': 880, 'pretenses': 1673, 'affixed': 139, 'consent': 506, 'provision': 1732, 'included': 1136, 'sanitary': 1940, 'sewer': 2005, 'ordinance': 1520, 'motorists': 1409, 'plead': 1610, 'guilty': 1030, 'minor': 1386, 'traffic': 2234, 'fines': 917, 'sanantonio': 1939, 'michael': 1376, 'abatuno': 82, 'draft': 728, 'authorized': 266, 'adopt': 125, 'sixth': 2031, 'disposition': 697, 'hesitated': 1073, 'prosecute': 1721, 'heavy': 1068, 'simplest': 2024, 'offense': 1489}\n",
            "2397\n"
          ]
        }
      ]
    },
    {
      "cell_type": "code",
      "source": [
        "\n",
        "# Print the vocabulary and TF-IDF weighted document term matrix\n",
        "#print('Vocabulary:', vectorizer.get_feature_names())\n",
        "print('TF-IDF Weighted Document Term Matrix:\\n', dtm_tfidf.toarray())\n"
      ],
      "metadata": {
        "colab": {
          "base_uri": "https://localhost:8080/"
        },
        "id": "yByX9GGKRz6D",
        "outputId": "f78eb340-34d0-4266-d09c-9b01c2a6cb44"
      },
      "execution_count": null,
      "outputs": [
        {
          "output_type": "stream",
          "name": "stdout",
          "text": [
            "TF-IDF Weighted Document Term Matrix:\n",
            " [[0.         0.00225281 0.00322614 ... 0.         0.         0.        ]\n",
            " [0.0274262  0.00212796 0.00304736 ... 0.00377712 0.         0.        ]\n",
            " [0.00979895 0.01596604 0.         ... 0.         0.00326632 0.        ]\n",
            " [0.         0.         0.         ... 0.         0.         0.00421795]\n",
            " [0.         0.00479671 0.         ... 0.         0.00343457 0.        ]]\n"
          ]
        }
      ]
    },
    {
      "cell_type": "code",
      "source": [
        "print(dtm_tfidf.shape)"
      ],
      "metadata": {
        "colab": {
          "base_uri": "https://localhost:8080/"
        },
        "id": "OsujP5dtSWdM",
        "outputId": "9042356c-4fe3-4947-ad08-4a4931bd8563"
      },
      "execution_count": null,
      "outputs": [
        {
          "output_type": "stream",
          "name": "stdout",
          "text": [
            "(5, 2397)\n"
          ]
        }
      ]
    }
  ]
}